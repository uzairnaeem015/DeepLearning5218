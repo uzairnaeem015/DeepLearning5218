{
 "cells": [
  {
   "cell_type": "code",
   "execution_count": 3,
   "id": "13876b7e",
   "metadata": {},
   "outputs": [
    {
     "name": "stdout",
     "output_type": "stream",
     "text": [
      "Name: Uzair Naeem:\n",
      "Python installed from anaconda jupyter 3.8\n"
     ]
    }
   ],
   "source": [
    "import sys\n",
    "print(\"Name: Uzair Naeem:\")\n",
    "print(f\"Python installed from anaconda jupyter {sys.version_info.major}.{sys.version_info.minor}\")"
   ]
  },
  {
   "cell_type": "code",
   "execution_count": null,
   "id": "0c017855",
   "metadata": {},
   "outputs": [],
   "source": []
  }
 ],
 "metadata": {
  "kernelspec": {
   "display_name": "Python 3 (ipykernel)",
   "language": "python",
   "name": "python3"
  },
  "language_info": {
   "codemirror_mode": {
    "name": "ipython",
    "version": 3
   },
   "file_extension": ".py",
   "mimetype": "text/x-python",
   "name": "python",
   "nbconvert_exporter": "python",
   "pygments_lexer": "ipython3",
   "version": "3.8.16"
  }
 },
 "nbformat": 4,
 "nbformat_minor": 5
}
